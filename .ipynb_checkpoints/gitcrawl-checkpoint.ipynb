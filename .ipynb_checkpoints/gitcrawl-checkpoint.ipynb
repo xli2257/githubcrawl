{
 "cells": [
  {
   "cell_type": "code",
   "execution_count": 1,
   "id": "81ca8e6a",
   "metadata": {},
   "outputs": [],
   "source": [
    "from selenium import webdriver"
   ]
  },
  {
   "cell_type": "code",
   "execution_count": 2,
   "id": "0fa5f10e",
   "metadata": {},
   "outputs": [],
   "source": [
    "from selenium.webdriver.common.keys import Keys\n",
    "from webdriver_manager.chrome import ChromeDriverManager\n",
    "import time"
   ]
  },
  {
   "cell_type": "code",
   "execution_count": 44,
   "id": "61842bae",
   "metadata": {},
   "outputs": [],
   "source": [
    "info_dic = {}\n",
    "driver=webdriver.Chrome(executable_path = \"/Users/zhemei/Desktop/chromedriver\")\n",
    "driver.get(\"https://github.com/xli2257\")\n",
    "h1 = driver.find_element_by_xpath('//*[@id=\"js-pjax-container\"]/div[2]/div/div[1]/div/div[2]/div[1]/div[1]/a/img');\n",
    "i"
   ]
  },
  {
   "cell_type": "code",
   "execution_count": null,
   "id": "80a243cf",
   "metadata": {},
   "outputs": [],
   "source": []
  }
 ],
 "metadata": {
  "kernelspec": {
   "display_name": "Python 3",
   "language": "python",
   "name": "python3"
  },
  "language_info": {
   "codemirror_mode": {
    "name": "ipython",
    "version": 3
   },
   "file_extension": ".py",
   "mimetype": "text/x-python",
   "name": "python",
   "nbconvert_exporter": "python",
   "pygments_lexer": "ipython3",
   "version": "3.8.8"
  }
 },
 "nbformat": 4,
 "nbformat_minor": 5
}
